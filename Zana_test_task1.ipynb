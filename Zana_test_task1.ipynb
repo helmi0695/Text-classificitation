{
  "nbformat": 4,
  "nbformat_minor": 0,
  "metadata": {
    "colab": {
      "name": "Zana_test_task1.ipynb",
      "provenance": [],
      "collapsed_sections": [],
      "toc_visible": true
    },
    "kernelspec": {
      "name": "python3",
      "display_name": "Python 3"
    }
  },
  "cells": [
    {
      "cell_type": "markdown",
      "metadata": {
        "id": "g8ZmZLitNl06"
      },
      "source": [
        "## Task 1-a"
      ]
    },
    {
      "cell_type": "code",
      "metadata": {
        "id": "T66Ao2uq51sk"
      },
      "source": [
        "from gensim.test.utils import common_texts"
      ],
      "execution_count": 3,
      "outputs": []
    },
    {
      "cell_type": "code",
      "metadata": {
        "id": "DaiaFXQR7Uyg"
      },
      "source": [
        "import gensim.downloader"
      ],
      "execution_count": 4,
      "outputs": []
    },
    {
      "cell_type": "code",
      "metadata": {
        "colab": {
          "base_uri": "https://localhost:8080/"
        },
        "id": "tvzF4m_q7tGt",
        "outputId": "efeaee45-5ec1-4813-87b4-16381e325e59"
      },
      "source": [
        "print(list(gensim.downloader.info()['models'].keys()))"
      ],
      "execution_count": 5,
      "outputs": [
        {
          "output_type": "stream",
          "text": [
            "['fasttext-wiki-news-subwords-300', 'conceptnet-numberbatch-17-06-300', 'word2vec-ruscorpora-300', 'word2vec-google-news-300', 'glove-wiki-gigaword-50', 'glove-wiki-gigaword-100', 'glove-wiki-gigaword-200', 'glove-wiki-gigaword-300', 'glove-twitter-25', 'glove-twitter-50', 'glove-twitter-100', 'glove-twitter-200', '__testing_word2vec-matrix-synopsis']\n"
          ],
          "name": "stdout"
        }
      ]
    },
    {
      "cell_type": "code",
      "metadata": {
        "id": "ECGsAHO282Gb",
        "colab": {
          "base_uri": "https://localhost:8080/"
        },
        "outputId": "f0f3cb0c-2bec-4c5f-b7ac-a99d230bf7fb"
      },
      "source": [
        "# Download the fasttext wiki news\r\n",
        "\r\n",
        "fasttext_wiki = gensim.downloader.load('fasttext-wiki-news-subwords-300')\r\n"
      ],
      "execution_count": 6,
      "outputs": [
        {
          "output_type": "stream",
          "text": [
            "[================================================--] 97.3% 932.3/958.4MB downloaded"
          ],
          "name": "stdout"
        }
      ]
    },
    {
      "cell_type": "code",
      "metadata": {
        "colab": {
          "base_uri": "https://localhost:8080/"
        },
        "id": "NckX3_nW_jQA",
        "outputId": "10c7d853-ae43-484d-d4e7-35019210499b"
      },
      "source": [
        "fasttext_wiki.most_similar('diabetes')"
      ],
      "execution_count": 7,
      "outputs": [
        {
          "output_type": "execute_result",
          "data": {
            "text/plain": [
              "[('pre-diabetes', 0.8249342441558838),\n",
              " ('diabetes-related', 0.7927406430244446),\n",
              " ('prediabetes', 0.7805973887443542),\n",
              " ('diabetic', 0.7755506038665771),\n",
              " ('diabetics', 0.7647780179977417),\n",
              " ('Diabetes', 0.7560535669326782),\n",
              " ('anti-diabetes', 0.7549190521240234),\n",
              " ('non-diabetics', 0.7379587292671204),\n",
              " ('Pre-diabetes', 0.736569344997406),\n",
              " ('diabetes.', 0.7243572473526001)]"
            ]
          },
          "metadata": {
            "tags": []
          },
          "execution_count": 7
        }
      ]
    },
    {
      "cell_type": "code",
      "metadata": {
        "colab": {
          "base_uri": "https://localhost:8080/"
        },
        "id": "CH_GiPnU_jMj",
        "outputId": "6af13493-6bbe-474f-e702-3472c11921ed"
      },
      "source": [
        "len(fasttext_wiki.vocab)"
      ],
      "execution_count": 8,
      "outputs": [
        {
          "output_type": "execute_result",
          "data": {
            "text/plain": [
              "999999"
            ]
          },
          "metadata": {
            "tags": []
          },
          "execution_count": 8
        }
      ]
    },
    {
      "cell_type": "code",
      "metadata": {
        "colab": {
          "base_uri": "https://localhost:8080/"
        },
        "id": "NNgZj7aWJAMg",
        "outputId": "59e301bf-7281-452f-93a4-8de2e491ddd6"
      },
      "source": [
        "len(fasttext_wiki.get_vector('diabetes'))"
      ],
      "execution_count": 9,
      "outputs": [
        {
          "output_type": "execute_result",
          "data": {
            "text/plain": [
              "300"
            ]
          },
          "metadata": {
            "tags": []
          },
          "execution_count": 9
        }
      ]
    },
    {
      "cell_type": "code",
      "metadata": {
        "colab": {
          "base_uri": "https://localhost:8080/"
        },
        "id": "l-BahMOzJOYq",
        "outputId": "6e952bca-d671-418b-ad5e-4c52667642bb"
      },
      "source": [
        "fasttext_wiki.get_vector('main')"
      ],
      "execution_count": 10,
      "outputs": [
        {
          "output_type": "execute_result",
          "data": {
            "text/plain": [
              "array([ 3.2642e-02, -3.7231e-02,  2.4013e-03, -3.3950e-02, -4.7150e-02,\n",
              "       -8.5160e-02,  3.7521e-02, -2.0107e-01, -7.3209e-02, -1.9888e-02,\n",
              "       -5.5263e-03, -1.0275e-01,  3.5410e-02, -6.5010e-03,  3.8889e-02,\n",
              "        1.2087e-02,  9.4667e-02,  5.2583e-03,  1.0012e-01,  3.9454e-02,\n",
              "       -2.0994e-02,  3.3256e-04,  1.3052e-01,  7.6991e-02,  4.8822e-02,\n",
              "        2.1764e-03, -2.9412e-02,  1.2408e-02,  6.7364e-02,  1.2980e-02,\n",
              "       -6.2344e-02,  2.2168e-02, -1.1642e-02, -8.4909e-02,  2.7656e-02,\n",
              "       -1.9193e-02,  1.8124e-03,  4.4113e-03,  2.1477e-03, -2.0942e-02,\n",
              "        3.8438e-02, -1.0137e-01,  3.8727e-02, -2.7027e-03, -3.6453e-03,\n",
              "        2.0411e-02, -5.8616e-03, -4.0222e-02,  3.9531e-02, -1.1500e-02,\n",
              "        3.7860e-02, -8.3908e-03, -6.7898e-03, -3.7652e-02,  1.0174e-02,\n",
              "        4.4258e-02, -1.8005e-02, -1.2524e-02, -9.6410e-02,  3.0206e-02,\n",
              "       -4.2725e-02,  1.5353e-02,  2.0611e-01,  4.6929e-02,  6.0033e-02,\n",
              "       -6.7083e-03,  7.0143e-03,  2.2607e-02, -1.1722e-02,  3.0575e-02,\n",
              "        1.5364e-02, -1.6451e-02,  4.4674e-02, -2.0337e-03, -5.7168e-04,\n",
              "       -6.7550e-02, -2.5260e-02,  2.1838e-02,  5.7154e-02,  3.6160e-02,\n",
              "        1.4531e-02,  3.6696e-02, -8.2673e-02,  8.9200e-02,  6.0966e-02,\n",
              "        3.8580e-02, -4.3259e-02, -6.5302e-02, -1.4583e-02,  4.3904e-02,\n",
              "        8.1070e-02, -1.2546e-02, -6.4463e-02,  7.9851e-03,  3.5456e-02,\n",
              "        6.4051e-02, -4.0001e-02, -1.3152e-02, -5.7861e-02,  1.5870e-03,\n",
              "        4.0689e-02,  3.7488e-03,  2.3652e-02,  3.6154e-02, -2.3170e-02,\n",
              "       -1.7175e-01, -3.9985e-02, -5.1415e-02,  2.4233e-02,  2.5597e-02,\n",
              "        5.1452e-02,  4.9077e-02,  6.1168e-02,  2.8551e-02,  5.4237e-02,\n",
              "       -2.6456e-02, -3.9315e-02,  1.7508e-04, -5.3086e-02, -1.7956e-02,\n",
              "        3.5853e-02, -2.7343e-03,  1.9518e-02,  4.4828e-02,  6.5440e-02,\n",
              "        5.9619e-02, -5.6764e-02, -2.1773e-01,  5.2151e-02,  7.2237e-02,\n",
              "        2.4541e-02,  3.7404e-02,  3.1964e-02, -4.2843e-02,  3.1185e-03,\n",
              "        8.6989e-03,  1.9062e-03,  1.2056e-01,  4.3113e-05, -3.5193e-02,\n",
              "        2.7009e-02,  4.3274e-03,  1.2734e-02, -1.7420e-02, -1.5664e-02,\n",
              "       -3.2974e-02,  4.1623e-02,  3.6629e-02,  7.1712e-03,  2.0091e-02,\n",
              "       -2.2165e-02,  1.5268e-01, -5.2110e-02, -1.6499e-01,  9.0151e-02,\n",
              "       -1.3270e-02, -2.2942e-02,  9.9888e-03, -4.7960e-03,  1.3087e-01,\n",
              "       -3.3307e-03,  3.4120e-02,  2.6200e-02,  4.6775e-02, -4.8511e-02,\n",
              "       -3.7277e-03,  3.4387e-02,  2.6993e-02, -3.1795e-02,  3.6276e-02,\n",
              "        2.1028e-02, -3.5333e-02,  3.6911e-02,  1.6443e-02, -1.4259e-03,\n",
              "        1.0896e-01, -4.6859e-02, -3.6563e-02, -8.7288e-02,  5.3556e-02,\n",
              "        5.6181e-02,  5.1227e-02,  3.3406e-02, -5.6956e-02,  2.5952e-02,\n",
              "        5.9119e-03, -6.8945e-03,  1.2634e-01, -3.6699e-02, -4.2576e-02,\n",
              "        2.0669e-02,  1.6185e-01,  4.3270e-02,  3.3883e-02,  1.2375e-02,\n",
              "        3.9147e-02, -4.0106e-03, -5.9361e-02, -1.9248e-02,  6.0332e-02,\n",
              "       -1.9755e-01,  1.0563e-01, -4.6314e-02, -2.0976e-02,  2.5138e-02,\n",
              "        3.0081e-02,  1.4175e-02,  2.9693e-02,  5.1887e-02, -2.0078e-02,\n",
              "        2.3412e-01, -9.6600e-02, -8.6671e-02,  1.3644e-03, -1.0751e-01,\n",
              "        5.3577e-02, -5.8807e-02,  6.1750e-02,  4.1288e-02, -9.1621e-03,\n",
              "        5.5380e-02, -1.1510e-02, -4.9556e-02,  1.4080e-01,  1.9517e-02,\n",
              "        1.5741e-02, -1.9833e-03,  1.1216e-01,  7.1272e-02, -9.2792e-02,\n",
              "        2.3605e-02, -1.1657e-01, -7.7895e-02, -2.8192e-02, -4.7826e-03,\n",
              "       -8.0441e-03, -2.3250e-02, -7.7999e-05, -5.5005e-02,  1.1917e-02,\n",
              "        1.2027e-01,  4.8369e-02, -5.5311e-02,  8.6017e-03, -2.8979e-01,\n",
              "        4.5535e-02, -2.1632e-02,  4.2186e-02,  4.5887e-02,  3.4882e-02,\n",
              "       -2.3536e-02,  4.6307e-02, -7.1165e-03,  2.8819e-02, -6.6693e-03,\n",
              "       -7.5430e-03, -1.7252e-02,  8.8907e-02, -3.1158e-03, -2.6339e-02,\n",
              "        1.9910e-02,  2.6598e-02,  2.5374e-02, -4.8461e-02,  1.1254e-02,\n",
              "       -6.6347e-03, -8.6211e-02, -1.1805e-02,  1.3386e-02, -6.5634e-02,\n",
              "        7.6616e-02,  1.5439e-01, -1.2382e-01, -6.2642e-02,  1.4549e-01,\n",
              "       -5.4194e-02,  3.2197e-02,  5.6437e-02,  7.2420e-02, -2.2828e-02,\n",
              "        1.5809e-01, -7.3269e-03,  1.0642e-01,  1.5988e-03,  8.9113e-02,\n",
              "        2.0752e-02,  3.8699e-02, -6.9236e-02,  2.3015e-02,  2.3604e-02,\n",
              "       -1.9883e-02,  8.0964e-02, -3.3277e-02,  4.7615e-03,  5.4009e-02,\n",
              "        1.0545e-02, -7.1286e-03,  4.9764e-02, -1.7378e-03,  3.3879e-02],\n",
              "      dtype=float32)"
            ]
          },
          "metadata": {
            "tags": []
          },
          "execution_count": 10
        }
      ]
    },
    {
      "cell_type": "code",
      "metadata": {
        "colab": {
          "base_uri": "https://localhost:8080/"
        },
        "id": "4nlQPXqKJzJj",
        "outputId": "d5c6afb6-468b-4329-c789-b3cd2f5e859f"
      },
      "source": [
        "fasttext_wiki.vector_size"
      ],
      "execution_count": 11,
      "outputs": [
        {
          "output_type": "execute_result",
          "data": {
            "text/plain": [
              "300"
            ]
          },
          "metadata": {
            "tags": []
          },
          "execution_count": 11
        }
      ]
    },
    {
      "cell_type": "code",
      "metadata": {
        "colab": {
          "base_uri": "https://localhost:8080/"
        },
        "id": "8PTS6KUBN60-",
        "outputId": "d407a66a-275f-49b7-e505-c1092ac4ca09"
      },
      "source": [
        "fasttext_wiki.wv['diabetes']==fasttext_wiki.get_vector('diabetes')"
      ],
      "execution_count": 12,
      "outputs": [
        {
          "output_type": "stream",
          "text": [
            "/usr/local/lib/python3.6/dist-packages/ipykernel_launcher.py:1: DeprecationWarning: Call to deprecated `wv` (Attribute will be removed in 4.0.0, use self instead).\n",
            "  \"\"\"Entry point for launching an IPython kernel.\n"
          ],
          "name": "stderr"
        },
        {
          "output_type": "execute_result",
          "data": {
            "text/plain": [
              "array([ True,  True,  True,  True,  True,  True,  True,  True,  True,\n",
              "        True,  True,  True,  True,  True,  True,  True,  True,  True,\n",
              "        True,  True,  True,  True,  True,  True,  True,  True,  True,\n",
              "        True,  True,  True,  True,  True,  True,  True,  True,  True,\n",
              "        True,  True,  True,  True,  True,  True,  True,  True,  True,\n",
              "        True,  True,  True,  True,  True,  True,  True,  True,  True,\n",
              "        True,  True,  True,  True,  True,  True,  True,  True,  True,\n",
              "        True,  True,  True,  True,  True,  True,  True,  True,  True,\n",
              "        True,  True,  True,  True,  True,  True,  True,  True,  True,\n",
              "        True,  True,  True,  True,  True,  True,  True,  True,  True,\n",
              "        True,  True,  True,  True,  True,  True,  True,  True,  True,\n",
              "        True,  True,  True,  True,  True,  True,  True,  True,  True,\n",
              "        True,  True,  True,  True,  True,  True,  True,  True,  True,\n",
              "        True,  True,  True,  True,  True,  True,  True,  True,  True,\n",
              "        True,  True,  True,  True,  True,  True,  True,  True,  True,\n",
              "        True,  True,  True,  True,  True,  True,  True,  True,  True,\n",
              "        True,  True,  True,  True,  True,  True,  True,  True,  True,\n",
              "        True,  True,  True,  True,  True,  True,  True,  True,  True,\n",
              "        True,  True,  True,  True,  True,  True,  True,  True,  True,\n",
              "        True,  True,  True,  True,  True,  True,  True,  True,  True,\n",
              "        True,  True,  True,  True,  True,  True,  True,  True,  True,\n",
              "        True,  True,  True,  True,  True,  True,  True,  True,  True,\n",
              "        True,  True,  True,  True,  True,  True,  True,  True,  True,\n",
              "        True,  True,  True,  True,  True,  True,  True,  True,  True,\n",
              "        True,  True,  True,  True,  True,  True,  True,  True,  True,\n",
              "        True,  True,  True,  True,  True,  True,  True,  True,  True,\n",
              "        True,  True,  True,  True,  True,  True,  True,  True,  True,\n",
              "        True,  True,  True,  True,  True,  True,  True,  True,  True,\n",
              "        True,  True,  True,  True,  True,  True,  True,  True,  True,\n",
              "        True,  True,  True,  True,  True,  True,  True,  True,  True,\n",
              "        True,  True,  True,  True,  True,  True,  True,  True,  True,\n",
              "        True,  True,  True,  True,  True,  True,  True,  True,  True,\n",
              "        True,  True,  True,  True,  True,  True,  True,  True,  True,\n",
              "        True,  True,  True])"
            ]
          },
          "metadata": {
            "tags": []
          },
          "execution_count": 12
        }
      ]
    },
    {
      "cell_type": "markdown",
      "metadata": {
        "id": "M4SaJVC0NR8y"
      },
      "source": [
        "## Task 1-b"
      ]
    },
    {
      "cell_type": "code",
      "metadata": {
        "id": "2SBq1w6JioFB",
        "colab": {
          "base_uri": "https://localhost:8080/"
        },
        "outputId": "8f78bc70-230d-40a5-c5e3-fc5c92254dcc"
      },
      "source": [
        "# function to clean text\r\n",
        "import re, unicodedata, string, nltk\r\n",
        "from nltk import word_tokenize, sent_tokenize\r\n",
        "from nltk.corpus import stopwords\r\n",
        "from nltk.stem import LancasterStemmer, WordNetLemmatizer\r\n",
        "\r\n",
        "nltk.download('stopwords')\r\n",
        "nltk.download('punkt')\r\n",
        "\r\n",
        "stop=set(stopwords.words('english'))\r\n",
        "\r\n",
        "def remove_non_ascii(words):\r\n",
        "    new_words = []\r\n",
        "    for word in words:\r\n",
        "        new_word = unicodedata.normalize('NFKD', word).encode('ascii', 'ignore').decode('utf-8', 'ignore')\r\n",
        "        new_words.append(new_word)\r\n",
        "    return new_words\r\n",
        "\r\n",
        "def to_lowercase(words):\r\n",
        "    new_words = []\r\n",
        "    for word in words:\r\n",
        "        new_word = word.lower()\r\n",
        "        new_words.append(new_word)\r\n",
        "    return new_words\r\n",
        "\r\n",
        "def remove_punctuation(words):\r\n",
        "    new_words = []\r\n",
        "    for word in words:\r\n",
        "        new_word = re.sub(r'[^\\w\\s]', '', word)\r\n",
        "        if new_word != '':\r\n",
        "            new_words.append(new_word)\r\n",
        "    return new_words\r\n",
        "\r\n",
        "\r\n",
        "def remove_stopwords(words):\r\n",
        "    new_words = []\r\n",
        "    for word in words:\r\n",
        "        if word not in stop:\r\n",
        "            new_words.append(word)\r\n",
        "    return new_words\r\n",
        "\r\n",
        "def stem_words(words):\r\n",
        "    stemmer = LancasterStemmer()\r\n",
        "    stems = []\r\n",
        "    for word in words:\r\n",
        "        stem = stemmer.stem(word)\r\n",
        "        stems.append(stem)\r\n",
        "    return stems\r\n",
        "\r\n",
        "def lemmatize_verbs(words):\r\n",
        "    lemmatizer = WordNetLemmatizer()\r\n",
        "    lemmas = []\r\n",
        "    for word in words:\r\n",
        "        lemma = lemmatizer.lemmatize(word, pos='v')\r\n",
        "        lemmas.append(lemma)\r\n",
        "    return lemmas\r\n",
        "\r\n",
        "def normalize(words):\r\n",
        "    words = remove_non_ascii(words)\r\n",
        "    words = to_lowercase(words)\r\n",
        "    words = remove_punctuation(words)\r\n",
        "    words = remove_stopwords(words)\r\n",
        "    return words\r\n",
        "\r\n",
        "def preprocess(sample):\r\n",
        "    \r\n",
        "    # Tokenize\r\n",
        "    words = nltk.word_tokenize(sample)\r\n",
        "\r\n",
        "    # Normalize and join\r\n",
        "    sent = ' '\r\n",
        "    return sent.join(normalize(words))\r\n",
        "\r\n"
      ],
      "execution_count": 13,
      "outputs": [
        {
          "output_type": "stream",
          "text": [
            "[nltk_data] Downloading package stopwords to /root/nltk_data...\n",
            "[nltk_data]   Unzipping corpora/stopwords.zip.\n",
            "[nltk_data] Downloading package punkt to /root/nltk_data...\n",
            "[nltk_data]   Unzipping tokenizers/punkt.zip.\n"
          ],
          "name": "stdout"
        }
      ]
    },
    {
      "cell_type": "code",
      "metadata": {
        "colab": {
          "base_uri": "https://localhost:8080/",
          "height": 142
        },
        "id": "ByLk_AG6hrJk",
        "outputId": "e60bde9b-0245-4559-c7d9-d0ea36e01e1d"
      },
      "source": [
        "import pandas as pd\r\n",
        "\r\n",
        "sentence_list = ['What are the main symptoms of diabetes?', 'Tell me how I may treat bruxism', 'What is the cause of a stroke?']\r\n",
        "\r\n",
        "sentence_df = pd.DataFrame(sentence_list, columns =['text'])\r\n",
        "\r\n",
        "sentence_df "
      ],
      "execution_count": 14,
      "outputs": [
        {
          "output_type": "execute_result",
          "data": {
            "text/html": [
              "<div>\n",
              "<style scoped>\n",
              "    .dataframe tbody tr th:only-of-type {\n",
              "        vertical-align: middle;\n",
              "    }\n",
              "\n",
              "    .dataframe tbody tr th {\n",
              "        vertical-align: top;\n",
              "    }\n",
              "\n",
              "    .dataframe thead th {\n",
              "        text-align: right;\n",
              "    }\n",
              "</style>\n",
              "<table border=\"1\" class=\"dataframe\">\n",
              "  <thead>\n",
              "    <tr style=\"text-align: right;\">\n",
              "      <th></th>\n",
              "      <th>text</th>\n",
              "    </tr>\n",
              "  </thead>\n",
              "  <tbody>\n",
              "    <tr>\n",
              "      <th>0</th>\n",
              "      <td>What are the main symptoms of diabetes?</td>\n",
              "    </tr>\n",
              "    <tr>\n",
              "      <th>1</th>\n",
              "      <td>Tell me how I may treat bruxism</td>\n",
              "    </tr>\n",
              "    <tr>\n",
              "      <th>2</th>\n",
              "      <td>What is the cause of a stroke?</td>\n",
              "    </tr>\n",
              "  </tbody>\n",
              "</table>\n",
              "</div>"
            ],
            "text/plain": [
              "                                      text\n",
              "0  What are the main symptoms of diabetes?\n",
              "1          Tell me how I may treat bruxism\n",
              "2           What is the cause of a stroke?"
            ]
          },
          "metadata": {
            "tags": []
          },
          "execution_count": 14
        }
      ]
    },
    {
      "cell_type": "code",
      "metadata": {
        "colab": {
          "base_uri": "https://localhost:8080/",
          "height": 142
        },
        "id": "kHzpMzKQlS8Z",
        "outputId": "afcf26d8-047a-4ba8-ecf3-6e74d730b17a"
      },
      "source": [
        "sentence_df['cleaned'] = sentence_df.text.apply(preprocess)\r\n",
        "sentence_df"
      ],
      "execution_count": 15,
      "outputs": [
        {
          "output_type": "execute_result",
          "data": {
            "text/html": [
              "<div>\n",
              "<style scoped>\n",
              "    .dataframe tbody tr th:only-of-type {\n",
              "        vertical-align: middle;\n",
              "    }\n",
              "\n",
              "    .dataframe tbody tr th {\n",
              "        vertical-align: top;\n",
              "    }\n",
              "\n",
              "    .dataframe thead th {\n",
              "        text-align: right;\n",
              "    }\n",
              "</style>\n",
              "<table border=\"1\" class=\"dataframe\">\n",
              "  <thead>\n",
              "    <tr style=\"text-align: right;\">\n",
              "      <th></th>\n",
              "      <th>text</th>\n",
              "      <th>cleaned</th>\n",
              "    </tr>\n",
              "  </thead>\n",
              "  <tbody>\n",
              "    <tr>\n",
              "      <th>0</th>\n",
              "      <td>What are the main symptoms of diabetes?</td>\n",
              "      <td>main symptoms diabetes</td>\n",
              "    </tr>\n",
              "    <tr>\n",
              "      <th>1</th>\n",
              "      <td>Tell me how I may treat bruxism</td>\n",
              "      <td>tell may treat bruxism</td>\n",
              "    </tr>\n",
              "    <tr>\n",
              "      <th>2</th>\n",
              "      <td>What is the cause of a stroke?</td>\n",
              "      <td>cause stroke</td>\n",
              "    </tr>\n",
              "  </tbody>\n",
              "</table>\n",
              "</div>"
            ],
            "text/plain": [
              "                                      text                 cleaned\n",
              "0  What are the main symptoms of diabetes?  main symptoms diabetes\n",
              "1          Tell me how I may treat bruxism  tell may treat bruxism\n",
              "2           What is the cause of a stroke?            cause stroke"
            ]
          },
          "metadata": {
            "tags": []
          },
          "execution_count": 15
        }
      ]
    },
    {
      "cell_type": "code",
      "metadata": {
        "colab": {
          "base_uri": "https://localhost:8080/",
          "height": 142
        },
        "id": "N2pQurVCn6wt",
        "outputId": "1364484a-0577-4ae4-a0f0-a2c10da74047"
      },
      "source": [
        "sentence_df['cleaned_tokens'] = sentence_df.cleaned.apply(lambda x: x.split())\r\n",
        "sentence_df"
      ],
      "execution_count": 16,
      "outputs": [
        {
          "output_type": "execute_result",
          "data": {
            "text/html": [
              "<div>\n",
              "<style scoped>\n",
              "    .dataframe tbody tr th:only-of-type {\n",
              "        vertical-align: middle;\n",
              "    }\n",
              "\n",
              "    .dataframe tbody tr th {\n",
              "        vertical-align: top;\n",
              "    }\n",
              "\n",
              "    .dataframe thead th {\n",
              "        text-align: right;\n",
              "    }\n",
              "</style>\n",
              "<table border=\"1\" class=\"dataframe\">\n",
              "  <thead>\n",
              "    <tr style=\"text-align: right;\">\n",
              "      <th></th>\n",
              "      <th>text</th>\n",
              "      <th>cleaned</th>\n",
              "      <th>cleaned_tokens</th>\n",
              "    </tr>\n",
              "  </thead>\n",
              "  <tbody>\n",
              "    <tr>\n",
              "      <th>0</th>\n",
              "      <td>What are the main symptoms of diabetes?</td>\n",
              "      <td>main symptoms diabetes</td>\n",
              "      <td>[main, symptoms, diabetes]</td>\n",
              "    </tr>\n",
              "    <tr>\n",
              "      <th>1</th>\n",
              "      <td>Tell me how I may treat bruxism</td>\n",
              "      <td>tell may treat bruxism</td>\n",
              "      <td>[tell, may, treat, bruxism]</td>\n",
              "    </tr>\n",
              "    <tr>\n",
              "      <th>2</th>\n",
              "      <td>What is the cause of a stroke?</td>\n",
              "      <td>cause stroke</td>\n",
              "      <td>[cause, stroke]</td>\n",
              "    </tr>\n",
              "  </tbody>\n",
              "</table>\n",
              "</div>"
            ],
            "text/plain": [
              "                                      text  ...               cleaned_tokens\n",
              "0  What are the main symptoms of diabetes?  ...   [main, symptoms, diabetes]\n",
              "1          Tell me how I may treat bruxism  ...  [tell, may, treat, bruxism]\n",
              "2           What is the cause of a stroke?  ...              [cause, stroke]\n",
              "\n",
              "[3 rows x 3 columns]"
            ]
          },
          "metadata": {
            "tags": []
          },
          "execution_count": 16
        }
      ]
    },
    {
      "cell_type": "code",
      "metadata": {
        "colab": {
          "base_uri": "https://localhost:8080/"
        },
        "id": "SZMywCG8s9wi",
        "outputId": "fc8f13be-2ae8-4eb4-e998-7f393e7ba987"
      },
      "source": [
        "sent_final_list = sentence_df['cleaned_tokens'].tolist()\r\n",
        "\r\n",
        "sent_final_list"
      ],
      "execution_count": 17,
      "outputs": [
        {
          "output_type": "execute_result",
          "data": {
            "text/plain": [
              "[['main', 'symptoms', 'diabetes'],\n",
              " ['tell', 'may', 'treat', 'bruxism'],\n",
              " ['cause', 'stroke']]"
            ]
          },
          "metadata": {
            "tags": []
          },
          "execution_count": 17
        }
      ]
    },
    {
      "cell_type": "code",
      "metadata": {
        "colab": {
          "base_uri": "https://localhost:8080/"
        },
        "id": "xrKPl_FqVv0h",
        "outputId": "3fbf6067-790e-4af4-b413-907f9f42ab14"
      },
      "source": [
        "main_vector = fasttext_wiki.wv['main']  \r\n",
        "symptoms_vector = fasttext_wiki.wv['symptoms']  \r\n",
        "diabetes_vector = fasttext_wiki.wv['diabetes']  \r\n",
        "tell_vector = fasttext_wiki.wv['tell']  \r\n",
        "may_vector = fasttext_wiki.wv['may']  \r\n",
        "treat_vector = fasttext_wiki.wv['treat']  \r\n",
        "bruxism_vector = fasttext_wiki.wv['bruxism']  \r\n",
        "cause_vector = fasttext_wiki.wv['cause']  \r\n",
        "stroke_vector = fasttext_wiki.wv['stroke']   "
      ],
      "execution_count": 18,
      "outputs": [
        {
          "output_type": "stream",
          "text": [
            "/usr/local/lib/python3.6/dist-packages/ipykernel_launcher.py:1: DeprecationWarning: Call to deprecated `wv` (Attribute will be removed in 4.0.0, use self instead).\n",
            "  \"\"\"Entry point for launching an IPython kernel.\n",
            "/usr/local/lib/python3.6/dist-packages/ipykernel_launcher.py:2: DeprecationWarning: Call to deprecated `wv` (Attribute will be removed in 4.0.0, use self instead).\n",
            "  \n",
            "/usr/local/lib/python3.6/dist-packages/ipykernel_launcher.py:3: DeprecationWarning: Call to deprecated `wv` (Attribute will be removed in 4.0.0, use self instead).\n",
            "  This is separate from the ipykernel package so we can avoid doing imports until\n",
            "/usr/local/lib/python3.6/dist-packages/ipykernel_launcher.py:4: DeprecationWarning: Call to deprecated `wv` (Attribute will be removed in 4.0.0, use self instead).\n",
            "  after removing the cwd from sys.path.\n",
            "/usr/local/lib/python3.6/dist-packages/ipykernel_launcher.py:5: DeprecationWarning: Call to deprecated `wv` (Attribute will be removed in 4.0.0, use self instead).\n",
            "  \"\"\"\n",
            "/usr/local/lib/python3.6/dist-packages/ipykernel_launcher.py:6: DeprecationWarning: Call to deprecated `wv` (Attribute will be removed in 4.0.0, use self instead).\n",
            "  \n",
            "/usr/local/lib/python3.6/dist-packages/ipykernel_launcher.py:7: DeprecationWarning: Call to deprecated `wv` (Attribute will be removed in 4.0.0, use self instead).\n",
            "  import sys\n",
            "/usr/local/lib/python3.6/dist-packages/ipykernel_launcher.py:8: DeprecationWarning: Call to deprecated `wv` (Attribute will be removed in 4.0.0, use self instead).\n",
            "  \n",
            "/usr/local/lib/python3.6/dist-packages/ipykernel_launcher.py:9: DeprecationWarning: Call to deprecated `wv` (Attribute will be removed in 4.0.0, use self instead).\n",
            "  if __name__ == '__main__':\n"
          ],
          "name": "stderr"
        }
      ]
    },
    {
      "cell_type": "code",
      "metadata": {
        "colab": {
          "base_uri": "https://localhost:8080/"
        },
        "id": "ODiTnEuXbOeO",
        "outputId": "8693d316-7e2d-4e77-a063-e0fcbd303de4"
      },
      "source": [
        "len(main_vector.tolist())"
      ],
      "execution_count": 19,
      "outputs": [
        {
          "output_type": "execute_result",
          "data": {
            "text/plain": [
              "300"
            ]
          },
          "metadata": {
            "tags": []
          },
          "execution_count": 19
        }
      ]
    },
    {
      "cell_type": "code",
      "metadata": {
        "colab": {
          "base_uri": "https://localhost:8080/",
          "height": 204
        },
        "id": "d5BAmyFsbUAa",
        "outputId": "0afa1920-15e3-46ca-a922-d67463229b1a"
      },
      "source": [
        "# save to csv\r\n",
        "# create a list of lists\r\n",
        "# create a df\r\n",
        "# save to csv\r\n",
        "test_dict = {'main':main_vector,'symptoms': symptoms_vector,'diabetes':diabetes_vector,\r\n",
        "             'tell':tell_vector,'may':may_vector,'treat':treat_vector,\r\n",
        "             'bruxism':bruxism_vector,'cause':cause_vector,'stroke':stroke_vector}\r\n",
        "\r\n",
        "result_df = pd.DataFrame(test_dict) \r\n",
        "result_df.head()"
      ],
      "execution_count": 20,
      "outputs": [
        {
          "output_type": "execute_result",
          "data": {
            "text/html": [
              "<div>\n",
              "<style scoped>\n",
              "    .dataframe tbody tr th:only-of-type {\n",
              "        vertical-align: middle;\n",
              "    }\n",
              "\n",
              "    .dataframe tbody tr th {\n",
              "        vertical-align: top;\n",
              "    }\n",
              "\n",
              "    .dataframe thead th {\n",
              "        text-align: right;\n",
              "    }\n",
              "</style>\n",
              "<table border=\"1\" class=\"dataframe\">\n",
              "  <thead>\n",
              "    <tr style=\"text-align: right;\">\n",
              "      <th></th>\n",
              "      <th>main</th>\n",
              "      <th>symptoms</th>\n",
              "      <th>diabetes</th>\n",
              "      <th>tell</th>\n",
              "      <th>may</th>\n",
              "      <th>treat</th>\n",
              "      <th>bruxism</th>\n",
              "      <th>cause</th>\n",
              "      <th>stroke</th>\n",
              "    </tr>\n",
              "  </thead>\n",
              "  <tbody>\n",
              "    <tr>\n",
              "      <th>0</th>\n",
              "      <td>0.032642</td>\n",
              "      <td>-0.036559</td>\n",
              "      <td>0.033484</td>\n",
              "      <td>-0.025819</td>\n",
              "      <td>-0.034686</td>\n",
              "      <td>0.014085</td>\n",
              "      <td>-0.056040</td>\n",
              "      <td>-0.061307</td>\n",
              "      <td>-0.035926</td>\n",
              "    </tr>\n",
              "    <tr>\n",
              "      <th>1</th>\n",
              "      <td>-0.037231</td>\n",
              "      <td>-0.029487</td>\n",
              "      <td>-0.046229</td>\n",
              "      <td>-0.023199</td>\n",
              "      <td>-0.052130</td>\n",
              "      <td>-0.059584</td>\n",
              "      <td>-0.067647</td>\n",
              "      <td>-0.015698</td>\n",
              "      <td>-0.046038</td>\n",
              "    </tr>\n",
              "    <tr>\n",
              "      <th>2</th>\n",
              "      <td>0.002401</td>\n",
              "      <td>0.001419</td>\n",
              "      <td>-0.108650</td>\n",
              "      <td>-0.002597</td>\n",
              "      <td>-0.012657</td>\n",
              "      <td>0.000630</td>\n",
              "      <td>0.001431</td>\n",
              "      <td>0.033802</td>\n",
              "      <td>-0.041621</td>\n",
              "    </tr>\n",
              "    <tr>\n",
              "      <th>3</th>\n",
              "      <td>-0.033950</td>\n",
              "      <td>0.040797</td>\n",
              "      <td>-0.015682</td>\n",
              "      <td>0.021975</td>\n",
              "      <td>-0.035607</td>\n",
              "      <td>0.085713</td>\n",
              "      <td>0.013632</td>\n",
              "      <td>0.012051</td>\n",
              "      <td>0.093919</td>\n",
              "    </tr>\n",
              "    <tr>\n",
              "      <th>4</th>\n",
              "      <td>-0.047150</td>\n",
              "      <td>0.010602</td>\n",
              "      <td>0.009351</td>\n",
              "      <td>-0.056053</td>\n",
              "      <td>-0.081140</td>\n",
              "      <td>-0.022840</td>\n",
              "      <td>0.018029</td>\n",
              "      <td>-0.043491</td>\n",
              "      <td>-0.076987</td>\n",
              "    </tr>\n",
              "  </tbody>\n",
              "</table>\n",
              "</div>"
            ],
            "text/plain": [
              "       main  symptoms  diabetes  ...   bruxism     cause    stroke\n",
              "0  0.032642 -0.036559  0.033484  ... -0.056040 -0.061307 -0.035926\n",
              "1 -0.037231 -0.029487 -0.046229  ... -0.067647 -0.015698 -0.046038\n",
              "2  0.002401  0.001419 -0.108650  ...  0.001431  0.033802 -0.041621\n",
              "3 -0.033950  0.040797 -0.015682  ...  0.013632  0.012051  0.093919\n",
              "4 -0.047150  0.010602  0.009351  ...  0.018029 -0.043491 -0.076987\n",
              "\n",
              "[5 rows x 9 columns]"
            ]
          },
          "metadata": {
            "tags": []
          },
          "execution_count": 20
        }
      ]
    },
    {
      "cell_type": "code",
      "metadata": {
        "colab": {
          "base_uri": "https://localhost:8080/",
          "height": 258
        },
        "id": "8EkJBEZNODC8",
        "outputId": "20c13ac9-1223-4c8d-e581-fb4fc3f69d31"
      },
      "source": [
        "# create a function to automize the process\r\n",
        "test_dict_2 = dict()\r\n",
        "# fasttext_wiki.wv['main']  \r\n",
        "for i in sentence_df['cleaned_tokens']:\r\n",
        "  for w in i:\r\n",
        "    test_dict_2[w] = fasttext_wiki.wv[w]  \r\n",
        "\r\n",
        "result_df_2 = pd.DataFrame(test_dict_2) \r\n",
        "result_df_2.head()"
      ],
      "execution_count": 27,
      "outputs": [
        {
          "output_type": "stream",
          "text": [
            "/usr/local/lib/python3.6/dist-packages/ipykernel_launcher.py:6: DeprecationWarning: Call to deprecated `wv` (Attribute will be removed in 4.0.0, use self instead).\n",
            "  \n"
          ],
          "name": "stderr"
        },
        {
          "output_type": "execute_result",
          "data": {
            "text/html": [
              "<div>\n",
              "<style scoped>\n",
              "    .dataframe tbody tr th:only-of-type {\n",
              "        vertical-align: middle;\n",
              "    }\n",
              "\n",
              "    .dataframe tbody tr th {\n",
              "        vertical-align: top;\n",
              "    }\n",
              "\n",
              "    .dataframe thead th {\n",
              "        text-align: right;\n",
              "    }\n",
              "</style>\n",
              "<table border=\"1\" class=\"dataframe\">\n",
              "  <thead>\n",
              "    <tr style=\"text-align: right;\">\n",
              "      <th></th>\n",
              "      <th>main</th>\n",
              "      <th>symptoms</th>\n",
              "      <th>diabetes</th>\n",
              "      <th>tell</th>\n",
              "      <th>may</th>\n",
              "      <th>treat</th>\n",
              "      <th>bruxism</th>\n",
              "      <th>cause</th>\n",
              "      <th>stroke</th>\n",
              "    </tr>\n",
              "  </thead>\n",
              "  <tbody>\n",
              "    <tr>\n",
              "      <th>0</th>\n",
              "      <td>0.032642</td>\n",
              "      <td>-0.036559</td>\n",
              "      <td>0.033484</td>\n",
              "      <td>-0.025819</td>\n",
              "      <td>-0.034686</td>\n",
              "      <td>0.014085</td>\n",
              "      <td>-0.056040</td>\n",
              "      <td>-0.061307</td>\n",
              "      <td>-0.035926</td>\n",
              "    </tr>\n",
              "    <tr>\n",
              "      <th>1</th>\n",
              "      <td>-0.037231</td>\n",
              "      <td>-0.029487</td>\n",
              "      <td>-0.046229</td>\n",
              "      <td>-0.023199</td>\n",
              "      <td>-0.052130</td>\n",
              "      <td>-0.059584</td>\n",
              "      <td>-0.067647</td>\n",
              "      <td>-0.015698</td>\n",
              "      <td>-0.046038</td>\n",
              "    </tr>\n",
              "    <tr>\n",
              "      <th>2</th>\n",
              "      <td>0.002401</td>\n",
              "      <td>0.001419</td>\n",
              "      <td>-0.108650</td>\n",
              "      <td>-0.002597</td>\n",
              "      <td>-0.012657</td>\n",
              "      <td>0.000630</td>\n",
              "      <td>0.001431</td>\n",
              "      <td>0.033802</td>\n",
              "      <td>-0.041621</td>\n",
              "    </tr>\n",
              "    <tr>\n",
              "      <th>3</th>\n",
              "      <td>-0.033950</td>\n",
              "      <td>0.040797</td>\n",
              "      <td>-0.015682</td>\n",
              "      <td>0.021975</td>\n",
              "      <td>-0.035607</td>\n",
              "      <td>0.085713</td>\n",
              "      <td>0.013632</td>\n",
              "      <td>0.012051</td>\n",
              "      <td>0.093919</td>\n",
              "    </tr>\n",
              "    <tr>\n",
              "      <th>4</th>\n",
              "      <td>-0.047150</td>\n",
              "      <td>0.010602</td>\n",
              "      <td>0.009351</td>\n",
              "      <td>-0.056053</td>\n",
              "      <td>-0.081140</td>\n",
              "      <td>-0.022840</td>\n",
              "      <td>0.018029</td>\n",
              "      <td>-0.043491</td>\n",
              "      <td>-0.076987</td>\n",
              "    </tr>\n",
              "  </tbody>\n",
              "</table>\n",
              "</div>"
            ],
            "text/plain": [
              "       main  symptoms  diabetes  ...   bruxism     cause    stroke\n",
              "0  0.032642 -0.036559  0.033484  ... -0.056040 -0.061307 -0.035926\n",
              "1 -0.037231 -0.029487 -0.046229  ... -0.067647 -0.015698 -0.046038\n",
              "2  0.002401  0.001419 -0.108650  ...  0.001431  0.033802 -0.041621\n",
              "3 -0.033950  0.040797 -0.015682  ...  0.013632  0.012051  0.093919\n",
              "4 -0.047150  0.010602  0.009351  ...  0.018029 -0.043491 -0.076987\n",
              "\n",
              "[5 rows x 9 columns]"
            ]
          },
          "metadata": {
            "tags": []
          },
          "execution_count": 27
        }
      ]
    },
    {
      "cell_type": "code",
      "metadata": {
        "colab": {
          "base_uri": "https://localhost:8080/"
        },
        "id": "979SnPI2kLhF",
        "outputId": "f83fb998-954d-4cb1-9810-f3ff5da8a584"
      },
      "source": [
        "result_df.info()"
      ],
      "execution_count": 22,
      "outputs": [
        {
          "output_type": "stream",
          "text": [
            "<class 'pandas.core.frame.DataFrame'>\n",
            "RangeIndex: 300 entries, 0 to 299\n",
            "Data columns (total 9 columns):\n",
            " #   Column    Non-Null Count  Dtype  \n",
            "---  ------    --------------  -----  \n",
            " 0   main      300 non-null    float32\n",
            " 1   symptoms  300 non-null    float32\n",
            " 2   diabetes  300 non-null    float32\n",
            " 3   tell      300 non-null    float32\n",
            " 4   may       300 non-null    float32\n",
            " 5   treat     300 non-null    float32\n",
            " 6   bruxism   300 non-null    float32\n",
            " 7   cause     300 non-null    float32\n",
            " 8   stroke    300 non-null    float32\n",
            "dtypes: float32(9)\n",
            "memory usage: 10.7 KB\n"
          ],
          "name": "stdout"
        }
      ]
    },
    {
      "cell_type": "code",
      "metadata": {
        "id": "VXwOjjYMrn-t"
      },
      "source": [
        "# save to csv\r\n",
        "# wv_task1 = result_df.to_csv('wv_task1.csv',index = False)"
      ],
      "execution_count": 23,
      "outputs": []
    },
    {
      "cell_type": "markdown",
      "metadata": {
        "id": "YG58Ke2SSJoC"
      },
      "source": [
        "## Second approach"
      ]
    },
    {
      "cell_type": "code",
      "metadata": {
        "id": "p14hGuA2s9h3"
      },
      "source": [
        "# import gensim fasttext\r\n",
        "from gensim.models import FastText\r\n",
        "\r\n",
        "model = FastText(sent_final_list, min_count=1)\r\n",
        "\r\n",
        "\r\n",
        "main_vector2 = model.wv['main']  \r\n",
        "symptoms_vector2 = model.wv['symptoms']  \r\n"
      ],
      "execution_count": 24,
      "outputs": []
    },
    {
      "cell_type": "code",
      "metadata": {
        "colab": {
          "base_uri": "https://localhost:8080/"
        },
        "id": "-N5f2spas9Pv",
        "outputId": "400b7996-8270-44bc-838f-560982cf51b5"
      },
      "source": [
        "len(main_vector2)\r\n"
      ],
      "execution_count": 25,
      "outputs": [
        {
          "output_type": "execute_result",
          "data": {
            "text/plain": [
              "100"
            ]
          },
          "metadata": {
            "tags": []
          },
          "execution_count": 25
        }
      ]
    },
    {
      "cell_type": "code",
      "metadata": {
        "id": "xv4wJ1O6uoDw"
      },
      "source": [
        ""
      ],
      "execution_count": 25,
      "outputs": []
    }
  ]
}