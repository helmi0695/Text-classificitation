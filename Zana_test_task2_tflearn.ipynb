{
  "nbformat": 4,
  "nbformat_minor": 0,
  "metadata": {
    "colab": {
      "name": "Zana_test_task2_tflearn.ipynb",
      "provenance": [],
      "collapsed_sections": []
    },
    "kernelspec": {
      "name": "python3",
      "display_name": "Python 3"
    }
  },
  "cells": [
    {
      "cell_type": "code",
      "metadata": {
        "colab": {
          "base_uri": "https://localhost:8080/"
        },
        "id": "_76C47fg5Hus",
        "outputId": "3cc715a9-94f3-4fe6-ee94-dd8b5af04671"
      },
      "source": [
        "!pip install tflearn"
      ],
      "execution_count": null,
      "outputs": [
        {
          "output_type": "stream",
          "text": [
            "Requirement already satisfied: tflearn in /usr/local/lib/python3.6/dist-packages (0.5.0)\n",
            "Requirement already satisfied: Pillow in /usr/local/lib/python3.6/dist-packages (from tflearn) (7.0.0)\n",
            "Requirement already satisfied: numpy in /usr/local/lib/python3.6/dist-packages (from tflearn) (1.19.5)\n",
            "Requirement already satisfied: six in /usr/local/lib/python3.6/dist-packages (from tflearn) (1.15.0)\n"
          ],
          "name": "stdout"
        }
      ]
    },
    {
      "cell_type": "code",
      "metadata": {
        "id": "2CW64xOluYEj"
      },
      "source": [
        "import pandas as pd\r\n",
        "# modules we need for NLP\r\n",
        "import nltk\r\n",
        "from nltk.stem.lancaster import LancasterStemmer\r\n",
        "stemmer = LancasterStemmer()\r\n",
        "\r\n",
        "# modules we need for Tensorflow\r\n",
        "import numpy as np\r\n",
        "import tflearn\r\n",
        "import tensorflow as tf\r\n",
        "import random"
      ],
      "execution_count": null,
      "outputs": []
    },
    {
      "cell_type": "code",
      "metadata": {
        "id": "4RLS84XEu2H8"
      },
      "source": [
        "df = pd.read_excel('SampleDataset.xlsx')"
      ],
      "execution_count": null,
      "outputs": []
    },
    {
      "cell_type": "code",
      "metadata": {
        "colab": {
          "base_uri": "https://localhost:8080/",
          "height": 886
        },
        "id": "OiRMz5Gi5gfD",
        "outputId": "0ed51916-893e-4653-b34d-1eee03c344d0"
      },
      "source": [
        "df"
      ],
      "execution_count": null,
      "outputs": [
        {
          "output_type": "execute_result",
          "data": {
            "text/html": [
              "<div>\n",
              "<style scoped>\n",
              "    .dataframe tbody tr th:only-of-type {\n",
              "        vertical-align: middle;\n",
              "    }\n",
              "\n",
              "    .dataframe tbody tr th {\n",
              "        vertical-align: top;\n",
              "    }\n",
              "\n",
              "    .dataframe thead th {\n",
              "        text-align: right;\n",
              "    }\n",
              "</style>\n",
              "<table border=\"1\" class=\"dataframe\">\n",
              "  <thead>\n",
              "    <tr style=\"text-align: right;\">\n",
              "      <th></th>\n",
              "      <th>Utterance</th>\n",
              "      <th>Label</th>\n",
              "    </tr>\n",
              "  </thead>\n",
              "  <tbody>\n",
              "    <tr>\n",
              "      <th>0</th>\n",
              "      <td>What is plagiocephaly</td>\n",
              "      <td>introduction</td>\n",
              "    </tr>\n",
              "    <tr>\n",
              "      <th>1</th>\n",
              "      <td>What do you know about diabetes</td>\n",
              "      <td>introduction</td>\n",
              "    </tr>\n",
              "    <tr>\n",
              "      <th>2</th>\n",
              "      <td>General information about bruxism</td>\n",
              "      <td>introduction</td>\n",
              "    </tr>\n",
              "    <tr>\n",
              "      <th>3</th>\n",
              "      <td>Tell me what are Shingles</td>\n",
              "      <td>introduction</td>\n",
              "    </tr>\n",
              "    <tr>\n",
              "      <th>4</th>\n",
              "      <td>What is the cause of a stroke</td>\n",
              "      <td>causes</td>\n",
              "    </tr>\n",
              "    <tr>\n",
              "      <th>5</th>\n",
              "      <td>Causes of bruxism</td>\n",
              "      <td>causes</td>\n",
              "    </tr>\n",
              "    <tr>\n",
              "      <th>6</th>\n",
              "      <td>I want to know the causes of stroke</td>\n",
              "      <td>causes</td>\n",
              "    </tr>\n",
              "    <tr>\n",
              "      <th>7</th>\n",
              "      <td>What are the causes of Transitory Ischemia</td>\n",
              "      <td>causes</td>\n",
              "    </tr>\n",
              "    <tr>\n",
              "      <th>8</th>\n",
              "      <td>Tell me the causes of chlamydia</td>\n",
              "      <td>causes</td>\n",
              "    </tr>\n",
              "    <tr>\n",
              "      <th>9</th>\n",
              "      <td>causes of meningitis</td>\n",
              "      <td>causes</td>\n",
              "    </tr>\n",
              "    <tr>\n",
              "      <th>10</th>\n",
              "      <td>Complications of prostate enlargement</td>\n",
              "      <td>complications</td>\n",
              "    </tr>\n",
              "    <tr>\n",
              "      <th>11</th>\n",
              "      <td>Complications of diabetic ketoacidosis</td>\n",
              "      <td>complications</td>\n",
              "    </tr>\n",
              "    <tr>\n",
              "      <th>12</th>\n",
              "      <td>Problems associated with Tourette's syndrome</td>\n",
              "      <td>complications</td>\n",
              "    </tr>\n",
              "    <tr>\n",
              "      <th>13</th>\n",
              "      <td>Complications of otitis externa</td>\n",
              "      <td>complications</td>\n",
              "    </tr>\n",
              "    <tr>\n",
              "      <th>14</th>\n",
              "      <td>What are the complications of bladder cancer</td>\n",
              "      <td>complications</td>\n",
              "    </tr>\n",
              "    <tr>\n",
              "      <th>15</th>\n",
              "      <td>How can breast cancer be treated?</td>\n",
              "      <td>treatment</td>\n",
              "    </tr>\n",
              "    <tr>\n",
              "      <th>16</th>\n",
              "      <td>Do you have any information about the treatmen...</td>\n",
              "      <td>treatment</td>\n",
              "    </tr>\n",
              "    <tr>\n",
              "      <th>17</th>\n",
              "      <td>Do you think I can treat anorexia</td>\n",
              "      <td>treatment</td>\n",
              "    </tr>\n",
              "    <tr>\n",
              "      <th>18</th>\n",
              "      <td>Are there treatment options for a headache in ...</td>\n",
              "      <td>treatment</td>\n",
              "    </tr>\n",
              "    <tr>\n",
              "      <th>19</th>\n",
              "      <td>Can you show me the treatment related to allergy</td>\n",
              "      <td>treatment</td>\n",
              "    </tr>\n",
              "    <tr>\n",
              "      <th>20</th>\n",
              "      <td>Can you show me the diagnose for migraine</td>\n",
              "      <td>diagnosis</td>\n",
              "    </tr>\n",
              "    <tr>\n",
              "      <th>21</th>\n",
              "      <td>Can you provide a diagnose for anorexia?</td>\n",
              "      <td>diagnosis</td>\n",
              "    </tr>\n",
              "    <tr>\n",
              "      <th>22</th>\n",
              "      <td>Show me the diagnose for bronchitis</td>\n",
              "      <td>diagnosis</td>\n",
              "    </tr>\n",
              "    <tr>\n",
              "      <th>23</th>\n",
              "      <td>How is acute cholecystitis diagnosed?</td>\n",
              "      <td>diagnosis</td>\n",
              "    </tr>\n",
              "    <tr>\n",
              "      <th>24</th>\n",
              "      <td>I need a diagnose for my tummy ache</td>\n",
              "      <td>diagnosis</td>\n",
              "    </tr>\n",
              "    <tr>\n",
              "      <th>25</th>\n",
              "      <td>Can you die from a stroke?</td>\n",
              "      <td>prognosis</td>\n",
              "    </tr>\n",
              "    <tr>\n",
              "      <th>26</th>\n",
              "      <td>Prognosis of atherosclerotic cardiosclerosis</td>\n",
              "      <td>prognosis</td>\n",
              "    </tr>\n",
              "  </tbody>\n",
              "</table>\n",
              "</div>"
            ],
            "text/plain": [
              "                                            Utterance          Label\n",
              "0                               What is plagiocephaly   introduction\n",
              "1                     What do you know about diabetes   introduction\n",
              "2                   General information about bruxism   introduction\n",
              "3                           Tell me what are Shingles   introduction\n",
              "4                       What is the cause of a stroke         causes\n",
              "5                                   Causes of bruxism         causes\n",
              "6                 I want to know the causes of stroke         causes\n",
              "7          What are the causes of Transitory Ischemia         causes\n",
              "8                     Tell me the causes of chlamydia         causes\n",
              "9                                causes of meningitis         causes\n",
              "10              Complications of prostate enlargement  complications\n",
              "11             Complications of diabetic ketoacidosis  complications\n",
              "12       Problems associated with Tourette's syndrome  complications\n",
              "13                    Complications of otitis externa  complications\n",
              "14       What are the complications of bladder cancer  complications\n",
              "15                  How can breast cancer be treated?      treatment\n",
              "16  Do you have any information about the treatmen...      treatment\n",
              "17                  Do you think I can treat anorexia      treatment\n",
              "18  Are there treatment options for a headache in ...      treatment\n",
              "19   Can you show me the treatment related to allergy      treatment\n",
              "20          Can you show me the diagnose for migraine      diagnosis\n",
              "21           Can you provide a diagnose for anorexia?      diagnosis\n",
              "22                Show me the diagnose for bronchitis      diagnosis\n",
              "23              How is acute cholecystitis diagnosed?      diagnosis\n",
              "24                I need a diagnose for my tummy ache      diagnosis\n",
              "25                         Can you die from a stroke?      prognosis\n",
              "26       Prognosis of atherosclerotic cardiosclerosis      prognosis"
            ]
          },
          "metadata": {
            "tags": []
          },
          "execution_count": 12
        }
      ]
    },
    {
      "cell_type": "code",
      "metadata": {
        "colab": {
          "base_uri": "https://localhost:8080/"
        },
        "id": "Sz3Z9tQQ5hgc",
        "outputId": "3bb335ca-10cd-49e5-a2a6-1309d01c6399"
      },
      "source": [
        "df.info()"
      ],
      "execution_count": null,
      "outputs": [
        {
          "output_type": "stream",
          "text": [
            "<class 'pandas.core.frame.DataFrame'>\n",
            "RangeIndex: 27 entries, 0 to 26\n",
            "Data columns (total 2 columns):\n",
            " #   Column     Non-Null Count  Dtype \n",
            "---  ------     --------------  ----- \n",
            " 0   Utterance  27 non-null     object\n",
            " 1   Label      27 non-null     object\n",
            "dtypes: object(2)\n",
            "memory usage: 560.0+ bytes\n"
          ],
          "name": "stdout"
        }
      ]
    },
    {
      "cell_type": "code",
      "metadata": {
        "colab": {
          "base_uri": "https://localhost:8080/",
          "height": 173
        },
        "id": "lGMaz2fe75rk",
        "outputId": "f4b7587a-3a9a-43e5-977c-d915c04ff381"
      },
      "source": [
        "df.describe()"
      ],
      "execution_count": null,
      "outputs": [
        {
          "output_type": "execute_result",
          "data": {
            "text/html": [
              "<div>\n",
              "<style scoped>\n",
              "    .dataframe tbody tr th:only-of-type {\n",
              "        vertical-align: middle;\n",
              "    }\n",
              "\n",
              "    .dataframe tbody tr th {\n",
              "        vertical-align: top;\n",
              "    }\n",
              "\n",
              "    .dataframe thead th {\n",
              "        text-align: right;\n",
              "    }\n",
              "</style>\n",
              "<table border=\"1\" class=\"dataframe\">\n",
              "  <thead>\n",
              "    <tr style=\"text-align: right;\">\n",
              "      <th></th>\n",
              "      <th>Utterance</th>\n",
              "      <th>Label</th>\n",
              "    </tr>\n",
              "  </thead>\n",
              "  <tbody>\n",
              "    <tr>\n",
              "      <th>count</th>\n",
              "      <td>27</td>\n",
              "      <td>27</td>\n",
              "    </tr>\n",
              "    <tr>\n",
              "      <th>unique</th>\n",
              "      <td>27</td>\n",
              "      <td>6</td>\n",
              "    </tr>\n",
              "    <tr>\n",
              "      <th>top</th>\n",
              "      <td>What are the causes of Transitory Ischemia</td>\n",
              "      <td>causes</td>\n",
              "    </tr>\n",
              "    <tr>\n",
              "      <th>freq</th>\n",
              "      <td>1</td>\n",
              "      <td>6</td>\n",
              "    </tr>\n",
              "  </tbody>\n",
              "</table>\n",
              "</div>"
            ],
            "text/plain": [
              "                                         Utterance   Label\n",
              "count                                           27      27\n",
              "unique                                          27       6\n",
              "top     What are the causes of Transitory Ischemia  causes\n",
              "freq                                             1       6"
            ]
          },
          "metadata": {
            "tags": []
          },
          "execution_count": 14
        }
      ]
    },
    {
      "cell_type": "code",
      "metadata": {
        "colab": {
          "base_uri": "https://localhost:8080/"
        },
        "id": "aS7YWO-Zj7KU",
        "outputId": "3e97182b-312f-486a-dc3d-313e58e78e21"
      },
      "source": [
        "import re\r\n",
        "from nltk.stem import WordNetLemmatizer\r\n",
        "nltk.download('wordnet')\r\n",
        "nltk.download('punkt')\r\n",
        "\r\n",
        "def remove_non_ascii(words):\r\n",
        "    new_words = []\r\n",
        "    for word in words:\r\n",
        "        new_word = unicodedata.normalize('NFKD', word).encode('ascii', 'ignore').decode('utf-8', 'ignore')\r\n",
        "        new_words.append(new_word)\r\n",
        "    return new_words\r\n",
        "\r\n",
        "def to_lowercase(words):\r\n",
        "    new_words = []\r\n",
        "    for word in words:\r\n",
        "        new_word = word.lower()\r\n",
        "        new_words.append(new_word)\r\n",
        "    return new_words\r\n",
        "\r\n",
        "def remove_punctuation(words):\r\n",
        "    new_words = []\r\n",
        "    for word in words:\r\n",
        "        new_word = re.sub(r'[^\\w\\s]', '', word)\r\n",
        "        if new_word != '':\r\n",
        "            new_words.append(new_word)\r\n",
        "    return new_words\r\n",
        "\r\n",
        "\r\n",
        "def remove_stopwords(words):\r\n",
        "    new_words = []\r\n",
        "    for word in words:\r\n",
        "        if word not in stop:\r\n",
        "            new_words.append(word)\r\n",
        "    return new_words\r\n",
        "\r\n",
        "def stem_words(words):\r\n",
        "    stemmer = LancasterStemmer()\r\n",
        "    stems = []\r\n",
        "    for word in words:\r\n",
        "        stem = stemmer.stem(word)\r\n",
        "        stems.append(stem)\r\n",
        "    return stems\r\n",
        "\r\n",
        "def lemmatize_verbs(words):\r\n",
        "    lemmatizer = WordNetLemmatizer()\r\n",
        "    lemmas = []\r\n",
        "    for word in words:\r\n",
        "        lemma = lemmatizer.lemmatize(word, pos='v')\r\n",
        "        lemmas.append(lemma)\r\n",
        "    return lemmas\r\n",
        "\r\n",
        "def preprocess(sample):    \r\n",
        "    # Tokenize\r\n",
        "    words = nltk.word_tokenize(sample)\r\n",
        "\r\n",
        "    words = remove_punctuation(words)\r\n",
        "    words = to_lowercase(words)\r\n",
        "    # lemmatize\r\n",
        "    words = lemmatize_verbs(words)\r\n",
        "\r\n",
        "    return words"
      ],
      "execution_count": null,
      "outputs": [
        {
          "output_type": "stream",
          "text": [
            "[nltk_data] Downloading package wordnet to /root/nltk_data...\n",
            "[nltk_data]   Unzipping corpora/wordnet.zip.\n",
            "[nltk_data] Downloading package punkt to /root/nltk_data...\n",
            "[nltk_data]   Unzipping tokenizers/punkt.zip.\n"
          ],
          "name": "stdout"
        }
      ]
    },
    {
      "cell_type": "code",
      "metadata": {
        "colab": {
          "base_uri": "https://localhost:8080/",
          "height": 886
        },
        "id": "yriBTH-Jj7Gu",
        "outputId": "3ecb0bf8-f84e-4de0-8819-2124b8834aed"
      },
      "source": [
        "df['text'] = df.Utterance.apply(preprocess)\r\n",
        "df"
      ],
      "execution_count": null,
      "outputs": [
        {
          "output_type": "execute_result",
          "data": {
            "text/html": [
              "<div>\n",
              "<style scoped>\n",
              "    .dataframe tbody tr th:only-of-type {\n",
              "        vertical-align: middle;\n",
              "    }\n",
              "\n",
              "    .dataframe tbody tr th {\n",
              "        vertical-align: top;\n",
              "    }\n",
              "\n",
              "    .dataframe thead th {\n",
              "        text-align: right;\n",
              "    }\n",
              "</style>\n",
              "<table border=\"1\" class=\"dataframe\">\n",
              "  <thead>\n",
              "    <tr style=\"text-align: right;\">\n",
              "      <th></th>\n",
              "      <th>Utterance</th>\n",
              "      <th>Label</th>\n",
              "      <th>text</th>\n",
              "    </tr>\n",
              "  </thead>\n",
              "  <tbody>\n",
              "    <tr>\n",
              "      <th>0</th>\n",
              "      <td>What is plagiocephaly</td>\n",
              "      <td>introduction</td>\n",
              "      <td>[what, be, plagiocephaly]</td>\n",
              "    </tr>\n",
              "    <tr>\n",
              "      <th>1</th>\n",
              "      <td>What do you know about diabetes</td>\n",
              "      <td>introduction</td>\n",
              "      <td>[what, do, you, know, about, diabetes]</td>\n",
              "    </tr>\n",
              "    <tr>\n",
              "      <th>2</th>\n",
              "      <td>General information about bruxism</td>\n",
              "      <td>introduction</td>\n",
              "      <td>[general, information, about, bruxism]</td>\n",
              "    </tr>\n",
              "    <tr>\n",
              "      <th>3</th>\n",
              "      <td>Tell me what are Shingles</td>\n",
              "      <td>introduction</td>\n",
              "      <td>[tell, me, what, be, shingle]</td>\n",
              "    </tr>\n",
              "    <tr>\n",
              "      <th>4</th>\n",
              "      <td>What is the cause of a stroke</td>\n",
              "      <td>causes</td>\n",
              "      <td>[what, be, the, cause, of, a, stroke]</td>\n",
              "    </tr>\n",
              "    <tr>\n",
              "      <th>5</th>\n",
              "      <td>Causes of bruxism</td>\n",
              "      <td>causes</td>\n",
              "      <td>[cause, of, bruxism]</td>\n",
              "    </tr>\n",
              "    <tr>\n",
              "      <th>6</th>\n",
              "      <td>I want to know the causes of stroke</td>\n",
              "      <td>causes</td>\n",
              "      <td>[i, want, to, know, the, cause, of, stroke]</td>\n",
              "    </tr>\n",
              "    <tr>\n",
              "      <th>7</th>\n",
              "      <td>What are the causes of Transitory Ischemia</td>\n",
              "      <td>causes</td>\n",
              "      <td>[what, be, the, cause, of, transitory, ischemia]</td>\n",
              "    </tr>\n",
              "    <tr>\n",
              "      <th>8</th>\n",
              "      <td>Tell me the causes of chlamydia</td>\n",
              "      <td>causes</td>\n",
              "      <td>[tell, me, the, cause, of, chlamydia]</td>\n",
              "    </tr>\n",
              "    <tr>\n",
              "      <th>9</th>\n",
              "      <td>causes of meningitis</td>\n",
              "      <td>causes</td>\n",
              "      <td>[cause, of, meningitis]</td>\n",
              "    </tr>\n",
              "    <tr>\n",
              "      <th>10</th>\n",
              "      <td>Complications of prostate enlargement</td>\n",
              "      <td>complications</td>\n",
              "      <td>[complications, of, prostate, enlargement]</td>\n",
              "    </tr>\n",
              "    <tr>\n",
              "      <th>11</th>\n",
              "      <td>Complications of diabetic ketoacidosis</td>\n",
              "      <td>complications</td>\n",
              "      <td>[complications, of, diabetic, ketoacidosis]</td>\n",
              "    </tr>\n",
              "    <tr>\n",
              "      <th>12</th>\n",
              "      <td>Problems associated with Tourette's syndrome</td>\n",
              "      <td>complications</td>\n",
              "      <td>[problems, associate, with, tourette, s, syndr...</td>\n",
              "    </tr>\n",
              "    <tr>\n",
              "      <th>13</th>\n",
              "      <td>Complications of otitis externa</td>\n",
              "      <td>complications</td>\n",
              "      <td>[complications, of, otitis, externa]</td>\n",
              "    </tr>\n",
              "    <tr>\n",
              "      <th>14</th>\n",
              "      <td>What are the complications of bladder cancer</td>\n",
              "      <td>complications</td>\n",
              "      <td>[what, be, the, complications, of, bladder, ca...</td>\n",
              "    </tr>\n",
              "    <tr>\n",
              "      <th>15</th>\n",
              "      <td>How can breast cancer be treated?</td>\n",
              "      <td>treatment</td>\n",
              "      <td>[how, can, breast, cancer, be, treat]</td>\n",
              "    </tr>\n",
              "    <tr>\n",
              "      <th>16</th>\n",
              "      <td>Do you have any information about the treatmen...</td>\n",
              "      <td>treatment</td>\n",
              "      <td>[do, you, have, any, information, about, the, ...</td>\n",
              "    </tr>\n",
              "    <tr>\n",
              "      <th>17</th>\n",
              "      <td>Do you think I can treat anorexia</td>\n",
              "      <td>treatment</td>\n",
              "      <td>[do, you, think, i, can, treat, anorexia]</td>\n",
              "    </tr>\n",
              "    <tr>\n",
              "      <th>18</th>\n",
              "      <td>Are there treatment options for a headache in ...</td>\n",
              "      <td>treatment</td>\n",
              "      <td>[be, there, treatment, options, for, a, headac...</td>\n",
              "    </tr>\n",
              "    <tr>\n",
              "      <th>19</th>\n",
              "      <td>Can you show me the treatment related to allergy</td>\n",
              "      <td>treatment</td>\n",
              "      <td>[can, you, show, me, the, treatment, relate, t...</td>\n",
              "    </tr>\n",
              "    <tr>\n",
              "      <th>20</th>\n",
              "      <td>Can you show me the diagnose for migraine</td>\n",
              "      <td>diagnosis</td>\n",
              "      <td>[can, you, show, me, the, diagnose, for, migra...</td>\n",
              "    </tr>\n",
              "    <tr>\n",
              "      <th>21</th>\n",
              "      <td>Can you provide a diagnose for anorexia?</td>\n",
              "      <td>diagnosis</td>\n",
              "      <td>[can, you, provide, a, diagnose, for, anorexia]</td>\n",
              "    </tr>\n",
              "    <tr>\n",
              "      <th>22</th>\n",
              "      <td>Show me the diagnose for bronchitis</td>\n",
              "      <td>diagnosis</td>\n",
              "      <td>[show, me, the, diagnose, for, bronchitis]</td>\n",
              "    </tr>\n",
              "    <tr>\n",
              "      <th>23</th>\n",
              "      <td>How is acute cholecystitis diagnosed?</td>\n",
              "      <td>diagnosis</td>\n",
              "      <td>[how, be, acute, cholecystitis, diagnose]</td>\n",
              "    </tr>\n",
              "    <tr>\n",
              "      <th>24</th>\n",
              "      <td>I need a diagnose for my tummy ache</td>\n",
              "      <td>diagnosis</td>\n",
              "      <td>[i, need, a, diagnose, for, my, tummy, ache]</td>\n",
              "    </tr>\n",
              "    <tr>\n",
              "      <th>25</th>\n",
              "      <td>Can you die from a stroke?</td>\n",
              "      <td>prognosis</td>\n",
              "      <td>[can, you, die, from, a, stroke]</td>\n",
              "    </tr>\n",
              "    <tr>\n",
              "      <th>26</th>\n",
              "      <td>Prognosis of atherosclerotic cardiosclerosis</td>\n",
              "      <td>prognosis</td>\n",
              "      <td>[prognosis, of, atherosclerotic, cardiosclerosis]</td>\n",
              "    </tr>\n",
              "  </tbody>\n",
              "</table>\n",
              "</div>"
            ],
            "text/plain": [
              "                                            Utterance  ...                                               text\n",
              "0                               What is plagiocephaly  ...                          [what, be, plagiocephaly]\n",
              "1                     What do you know about diabetes  ...             [what, do, you, know, about, diabetes]\n",
              "2                   General information about bruxism  ...             [general, information, about, bruxism]\n",
              "3                           Tell me what are Shingles  ...                      [tell, me, what, be, shingle]\n",
              "4                       What is the cause of a stroke  ...              [what, be, the, cause, of, a, stroke]\n",
              "5                                   Causes of bruxism  ...                               [cause, of, bruxism]\n",
              "6                 I want to know the causes of stroke  ...        [i, want, to, know, the, cause, of, stroke]\n",
              "7          What are the causes of Transitory Ischemia  ...   [what, be, the, cause, of, transitory, ischemia]\n",
              "8                     Tell me the causes of chlamydia  ...              [tell, me, the, cause, of, chlamydia]\n",
              "9                                causes of meningitis  ...                            [cause, of, meningitis]\n",
              "10              Complications of prostate enlargement  ...         [complications, of, prostate, enlargement]\n",
              "11             Complications of diabetic ketoacidosis  ...        [complications, of, diabetic, ketoacidosis]\n",
              "12       Problems associated with Tourette's syndrome  ...  [problems, associate, with, tourette, s, syndr...\n",
              "13                    Complications of otitis externa  ...               [complications, of, otitis, externa]\n",
              "14       What are the complications of bladder cancer  ...  [what, be, the, complications, of, bladder, ca...\n",
              "15                  How can breast cancer be treated?  ...              [how, can, breast, cancer, be, treat]\n",
              "16  Do you have any information about the treatmen...  ...  [do, you, have, any, information, about, the, ...\n",
              "17                  Do you think I can treat anorexia  ...          [do, you, think, i, can, treat, anorexia]\n",
              "18  Are there treatment options for a headache in ...  ...  [be, there, treatment, options, for, a, headac...\n",
              "19   Can you show me the treatment related to allergy  ...  [can, you, show, me, the, treatment, relate, t...\n",
              "20          Can you show me the diagnose for migraine  ...  [can, you, show, me, the, diagnose, for, migra...\n",
              "21           Can you provide a diagnose for anorexia?  ...    [can, you, provide, a, diagnose, for, anorexia]\n",
              "22                Show me the diagnose for bronchitis  ...         [show, me, the, diagnose, for, bronchitis]\n",
              "23              How is acute cholecystitis diagnosed?  ...          [how, be, acute, cholecystitis, diagnose]\n",
              "24                I need a diagnose for my tummy ache  ...       [i, need, a, diagnose, for, my, tummy, ache]\n",
              "25                         Can you die from a stroke?  ...                   [can, you, die, from, a, stroke]\n",
              "26       Prognosis of atherosclerotic cardiosclerosis  ...  [prognosis, of, atherosclerotic, cardiosclerosis]\n",
              "\n",
              "[27 rows x 3 columns]"
            ]
          },
          "metadata": {
            "tags": []
          },
          "execution_count": 17
        }
      ]
    },
    {
      "cell_type": "code",
      "metadata": {
        "colab": {
          "base_uri": "https://localhost:8080/",
          "height": 35
        },
        "id": "QtgeYRKqoTYt",
        "outputId": "690434db-d3c7-4365-e4c6-8584a7ca1630"
      },
      "source": [
        "df.Utterance[16]"
      ],
      "execution_count": null,
      "outputs": [
        {
          "output_type": "execute_result",
          "data": {
            "application/vnd.google.colaboratory.intrinsic+json": {
              "type": "string"
            },
            "text/plain": [
              "'Do you have any information about the treatment of breast cancer?'"
            ]
          },
          "metadata": {
            "tags": []
          },
          "execution_count": 18
        }
      ]
    },
    {
      "cell_type": "code",
      "metadata": {
        "colab": {
          "base_uri": "https://localhost:8080/"
        },
        "id": "_yyeFlEEpd-r",
        "outputId": "0d6012a0-c1cb-42c6-b899-dc9465aa9382"
      },
      "source": [
        "df.text[16]"
      ],
      "execution_count": null,
      "outputs": [
        {
          "output_type": "execute_result",
          "data": {
            "text/plain": [
              "['do',\n",
              " 'you',\n",
              " 'have',\n",
              " 'any',\n",
              " 'information',\n",
              " 'about',\n",
              " 'the',\n",
              " 'treatment',\n",
              " 'of',\n",
              " 'breast',\n",
              " 'cancer']"
            ]
          },
          "metadata": {
            "tags": []
          },
          "execution_count": 19
        }
      ]
    },
    {
      "cell_type": "code",
      "metadata": {
        "colab": {
          "base_uri": "https://localhost:8080/"
        },
        "id": "Xjr7vlDlj7D1",
        "outputId": "95b3891f-1841-42e7-943c-0492d732a210"
      },
      "source": [
        "labels_list = df.Label\r\n",
        "text_list = df.text\r\n",
        "documents = [(df.text[i],df.Label[i]) for i in range(len(df.text))]\r\n",
        "documents[16]"
      ],
      "execution_count": null,
      "outputs": [
        {
          "output_type": "execute_result",
          "data": {
            "text/plain": [
              "(['do',\n",
              "  'you',\n",
              "  'have',\n",
              "  'any',\n",
              "  'information',\n",
              "  'about',\n",
              "  'the',\n",
              "  'treatment',\n",
              "  'of',\n",
              "  'breast',\n",
              "  'cancer'],\n",
              " 'treatment')"
            ]
          },
          "metadata": {
            "tags": []
          },
          "execution_count": 20
        }
      ]
    },
    {
      "cell_type": "code",
      "metadata": {
        "colab": {
          "base_uri": "https://localhost:8080/"
        },
        "id": "9oYahWcej7A8",
        "outputId": "044b4663-64e9-4870-d1b6-d69400c2e657"
      },
      "source": [
        "unique=[]\r\n",
        "for l in text_list:\r\n",
        "  for w in l:\r\n",
        "    unique.append(w)\r\n",
        "words = sorted(list(set(unique)))\r\n",
        "len(words)"
      ],
      "execution_count": null,
      "outputs": [
        {
          "output_type": "execute_result",
          "data": {
            "text/plain": [
              "74"
            ]
          },
          "metadata": {
            "tags": []
          },
          "execution_count": 21
        }
      ]
    },
    {
      "cell_type": "code",
      "metadata": {
        "id": "oSHtrd8GwOax"
      },
      "source": [
        "classes = sorted(list(set(labels_list.tolist())))"
      ],
      "execution_count": null,
      "outputs": []
    },
    {
      "cell_type": "code",
      "metadata": {
        "colab": {
          "base_uri": "https://localhost:8080/"
        },
        "id": "lZoPZ0vYj6-L",
        "outputId": "839c2989-7cd3-4ae8-d0e6-e44897e0673b"
      },
      "source": [
        "print (len(documents), \"documents\")\r\n",
        "print (len(classes), \"classes\", classes)\r\n",
        "print (len(words), \"unique stemmed words\", words)"
      ],
      "execution_count": null,
      "outputs": [
        {
          "output_type": "stream",
          "text": [
            "27 documents\n",
            "6 classes ['causes', 'complications', 'diagnosis', 'introduction', 'prognosis', 'treatment']\n",
            "74 unique stemmed words ['a', 'about', 'ache', 'acute', 'allergy', 'anorexia', 'any', 'associate', 'atherosclerotic', 'be', 'bladder', 'breast', 'bronchitis', 'bruxism', 'can', 'cancer', 'cardiosclerosis', 'cause', 'children', 'chlamydia', 'cholecystitis', 'complications', 'diabetes', 'diabetic', 'diagnose', 'die', 'do', 'enlargement', 'externa', 'for', 'from', 'general', 'have', 'headache', 'how', 'i', 'in', 'information', 'ischemia', 'ketoacidosis', 'know', 'me', 'meningitis', 'migraine', 'my', 'need', 'of', 'options', 'otitis', 'plagiocephaly', 'problems', 'prognosis', 'prostate', 'provide', 'relate', 's', 'shingle', 'show', 'stroke', 'syndrome', 'tell', 'the', 'there', 'think', 'to', 'tourette', 'transitory', 'treat', 'treatment', 'tummy', 'want', 'what', 'with', 'you']\n"
          ],
          "name": "stdout"
        }
      ]
    },
    {
      "cell_type": "code",
      "metadata": {
        "colab": {
          "base_uri": "https://localhost:8080/"
        },
        "id": "ilUFL4Adj67S",
        "outputId": "b11ad515-f541-4b4f-d285-5a20d40d7e44"
      },
      "source": [
        "# create our training data\r\n",
        "training = []\r\n",
        "output = []\r\n",
        "# create an empty array for our output\r\n",
        "output_empty = [0] * len(classes)\r\n",
        "\r\n",
        "# training set, bag of words for each sentence\r\n",
        "for doc in documents:\r\n",
        "    # initialize our bag of words\r\n",
        "    bag = []\r\n",
        "    # list of tokenized words for the pattern\r\n",
        "    pattern_words = doc[0]\r\n",
        "    # stem each word\r\n",
        "    pattern_words = [stemmer.stem(word.lower()) for word in pattern_words]\r\n",
        "    # create our bag of words array\r\n",
        "    for w in words:\r\n",
        "        bag.append(1) if w in pattern_words else bag.append(0)\r\n",
        "\r\n",
        "    # output is a '0' for each tag and '1' for current tag\r\n",
        "    output_row = list(output_empty)\r\n",
        "    output_row[classes.index(doc[1])] = 1\r\n",
        "\r\n",
        "    training.append([bag, output_row])\r\n",
        "\r\n",
        "# shuffle the features and turn into np.array\r\n",
        "random.shuffle(training)\r\n",
        "training = np.array(training)\r\n",
        "\r\n",
        "# create train and test lists\r\n",
        "train_x = list(training[:,0])\r\n",
        "train_y = list(training[:,1])"
      ],
      "execution_count": null,
      "outputs": [
        {
          "output_type": "stream",
          "text": [
            "/usr/local/lib/python3.6/dist-packages/ipykernel_launcher.py:27: VisibleDeprecationWarning: Creating an ndarray from ragged nested sequences (which is a list-or-tuple of lists-or-tuples-or ndarrays with different lengths or shapes) is deprecated. If you meant to do this, you must specify 'dtype=object' when creating the ndarray\n"
          ],
          "name": "stderr"
        }
      ]
    },
    {
      "cell_type": "code",
      "metadata": {
        "colab": {
          "base_uri": "https://localhost:8080/"
        },
        "id": "F4XFwJBYj61X",
        "outputId": "9b24ecd6-9f84-44f1-8bf1-902354125391"
      },
      "source": [
        "# reset underlying graph data\r\n",
        "tf.compat.v1.reset_default_graph()\r\n",
        "# Build neural network\r\n",
        "net = tflearn.input_data(shape=[None, len(train_x[0])])\r\n",
        "net = tflearn.fully_connected(net, 8)\r\n",
        "net = tflearn.fully_connected(net, 8)\r\n",
        "net = tflearn.fully_connected(net, len(train_y[0]), activation='softmax')\r\n",
        "net = tflearn.regression(net)\r\n",
        "\r\n",
        "# Define model and setup tensorboard\r\n",
        "model = tflearn.DNN(net, tensorboard_dir='tflearn_logs')\r\n",
        "# Start training (apply gradient descent algorithm)\r\n",
        "model.fit(train_x, train_y, n_epoch=1000, batch_size=8, show_metric=True, validation_set=0.1) # 10% for validation\r\n",
        "model.save('model.tflearn')"
      ],
      "execution_count": null,
      "outputs": [
        {
          "output_type": "stream",
          "text": [
            "Training Step: 2999  | total loss: \u001b[1m\u001b[32m1.09724\u001b[0m\u001b[0m | time: 0.008s\n",
            "| Adam | epoch: 1000 | loss: 1.09724 - acc: 0.8695 -- iter: 16/24\n",
            "Training Step: 3000  | total loss: \u001b[1m\u001b[32m1.02955\u001b[0m\u001b[0m | time: 1.020s\n",
            "| Adam | epoch: 1000 | loss: 1.02955 - acc: 0.7825 | val_loss: 2.08131 - val_acc: 0.0000 -- iter: 24/24\n",
            "--\n",
            "INFO:tensorflow:/content/model.tflearn is not in all_model_checkpoint_paths. Manually adding it.\n"
          ],
          "name": "stdout"
        }
      ]
    }
  ]
}